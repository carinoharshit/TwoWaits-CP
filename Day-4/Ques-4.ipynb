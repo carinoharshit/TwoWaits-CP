{
 "cells": [
  {
   "cell_type": "code",
   "execution_count": null,
   "metadata": {},
   "outputs": [],
   "source": [
    "size = int(input(\"Enter the no of items you want to add in dictonary: \"))\n",
    "diction = dict()\n",
    "for i in range(size):\n",
    "    key = input(\"Enter the key for item \" + str(i + 1) + \" in dictonary: \")\n",
    "    value = int(input(\"Enter the value for item \" + str(i + 1) + \" in dictonary: \"))\n",
    "    diction[key] = value\n",
    "result = dict()\n",
    "for key,value in diction.items():\n",
    "    if value not in result.values():\n",
    "        result[key] = value\n",
    "print(\"Dictonary after removing duplicate values: \", result)"
   ]
  },
  {
   "cell_type": "code",
   "execution_count": null,
   "metadata": {},
   "outputs": [],
   "source": []
  }
 ],
 "metadata": {
  "kernelspec": {
   "display_name": "Python 3",
   "language": "python",
   "name": "python3"
  },
  "language_info": {
   "codemirror_mode": {
    "name": "ipython",
    "version": 3
   },
   "file_extension": ".py",
   "mimetype": "text/x-python",
   "name": "python",
   "nbconvert_exporter": "python",
   "pygments_lexer": "ipython3",
   "version": "3.7.3"
  }
 },
 "nbformat": 4,
 "nbformat_minor": 2
}
