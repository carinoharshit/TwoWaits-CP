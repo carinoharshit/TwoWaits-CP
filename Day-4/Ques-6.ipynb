{
 "cells": [
  {
   "cell_type": "code",
   "execution_count": 4,
   "metadata": {},
   "outputs": [
    {
     "name": "stdout",
     "output_type": "stream",
     "text": [
      "Enter the no of words you want to add in dictonary: 2\n",
      "Enter the word 1: harshit\n",
      "Enter the word 2: singh\n",
      "Enter the no of character you want to add in array: 2\n",
      "Enter the characters in array one by one \n",
      "c\n",
      "p\n",
      ".\n"
     ]
    }
   ],
   "source": [
    "size = int(input(\"Enter the no of words you want to add in dictonary: \"))\n",
    "dict = []\n",
    "for i in range(size):\n",
    "    dict.append(input(\"Enter the word \" + str(i + 1) + \": \"))\n",
    "size = int(input(\"Enter the no of character you want to add in array: \"))\n",
    "array = []\n",
    "result = []\n",
    "print(\"Enter the characters in array one by one \")\n",
    "for i in range(size):\n",
    "    array.append(input())\n",
    "for word in dict: \n",
    "    if set(word).issubset(set(array)):\n",
    "        result.append(word)\n",
    "print(\", \".join(result) + \".\")"
   ]
  },
  {
   "cell_type": "code",
   "execution_count": null,
   "metadata": {},
   "outputs": [],
   "source": []
  }
 ],
 "metadata": {
  "kernelspec": {
   "display_name": "Python 3",
   "language": "python",
   "name": "python3"
  },
  "language_info": {
   "codemirror_mode": {
    "name": "ipython",
    "version": 3
   },
   "file_extension": ".py",
   "mimetype": "text/x-python",
   "name": "python",
   "nbconvert_exporter": "python",
   "pygments_lexer": "ipython3",
   "version": "3.7.3"
  }
 },
 "nbformat": 4,
 "nbformat_minor": 2
}
