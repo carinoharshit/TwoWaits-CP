{
 "cells": [
  {
   "cell_type": "code",
   "execution_count": 18,
   "metadata": {},
   "outputs": [
    {
     "name": "stdout",
     "output_type": "stream",
     "text": [
      "Enter the size of tuple: 4\n",
      "Enter the elements in tuple: \n",
      "1\n",
      "2\n",
      "3\n",
      "4\n",
      "Enter the element whose occurrences you want to know: 3\n",
      "Tuple contains the element 1 times\n"
     ]
    }
   ],
   "source": [
    "size = int(input(\"Enter the size of tuple: \"))\n",
    "print(\"Enter the elements in tuple: \")\n",
    "arr = []\n",
    "for i in range(size):\n",
    "    arr.append(input())\n",
    "arr = tuple(arr)\n",
    "element = input(\"Enter the element whose occurrences you want to know: \")\n",
    "print(\"Tuple contains the element\", arr.count(element), \"times\")"
   ]
  },
  {
   "cell_type": "code",
   "execution_count": null,
   "metadata": {},
   "outputs": [],
   "source": []
  }
 ],
 "metadata": {
  "kernelspec": {
   "display_name": "Python 3",
   "language": "python",
   "name": "python3"
  }
 },
 "nbformat": 4,
 "nbformat_minor": 2
}
