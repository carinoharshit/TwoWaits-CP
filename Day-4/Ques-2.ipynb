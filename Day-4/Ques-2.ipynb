{
 "cells": [
  {
   "cell_type": "code",
   "execution_count": null,
   "metadata": {},
   "outputs": [],
   "source": [
    "size_tuple=int(input(\"Enter the size of tuple in List: \"))\n",
    "size_list=int(input(\"Enter the size of List: \"))\n",
    "List=[]\n",
    "for i in range(size_list):\n",
    "    print(\"Enter the element in tuple\",i+1)\n",
    "    Tuple=[]\n",
    "    for j in range(size_tuple):\n",
    "        Tuple.append(int(input(\"Enter the element \"+str(j+1)+\" in Tuple:\")))\n",
    "    List.append(tuple(Tuple))\n",
    "n=int(input(\"Enter the nth index about which sort the list\"))\n",
    "List.sort(key=lambda x:x[n])\n",
    "print(\"Sorted list is:\",List)"
   ]
  }
 ],
 "metadata": {
  "kernelspec": {
   "display_name": "Python 3",
   "language": "python",
   "name": "python3"
  },
  "language_info": {
   "codemirror_mode": {
    "name": "ipython",
    "version": 3
   },
   "file_extension": ".py",
   "mimetype": "text/x-python",
   "name": "python",
   "nbconvert_exporter": "python",
   "pygments_lexer": "ipython3",
   "version": "3.7.3"
  }
 },
 "nbformat": 4,
 "nbformat_minor": 2
}
