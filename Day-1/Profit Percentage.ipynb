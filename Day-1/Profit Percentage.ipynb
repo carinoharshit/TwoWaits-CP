{
 "cells": [
  {
   "cell_type": "code",
   "execution_count": 14,
   "metadata": {},
   "outputs": [
    {
     "name": "stdout",
     "output_type": "stream",
     "text": [
      "Enter Cost Price100\n",
      "Enter Selling Price120\n",
      "Profit in percent: 20.0\n",
      "After increasing profit by 5% the selling price will be:  121.0\n"
     ]
    }
   ],
   "source": [
    "cp=float(input(\"Enter Cost Price\"))\n",
    "sp=float(input(\"Enter Selling Price\"))\n",
    "profit=((sp-cp)/cp)*100\n",
    "print(\"Profit in percent:\",profit)\n",
    "inc=1.05*(sp-cp)+cp\n",
    "print(\"After increasing profit by 5% the selling price will be: \",inc)"
   ]
  },
  {
   "cell_type": "code",
   "execution_count": null,
   "metadata": {},
   "outputs": [],
   "source": []
  }
 ],
 "metadata": {
  "kernelspec": {
   "display_name": "Python 3",
   "language": "python",
   "name": "python3"
  },
  "language_info": {
   "codemirror_mode": {
    "name": "ipython",
    "version": 3
   },
   "file_extension": ".py",
   "mimetype": "text/x-python",
   "name": "python",
   "nbconvert_exporter": "python",
   "pygments_lexer": "ipython3",
   "version": "3.7.3"
  }
 },
 "nbformat": 4,
 "nbformat_minor": 2
}
