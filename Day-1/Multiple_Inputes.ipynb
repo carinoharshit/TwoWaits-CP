{
 "cells": [
  {
   "cell_type": "code",
   "execution_count": 1,
   "metadata": {},
   "outputs": [
    {
     "name": "stdout",
     "output_type": "stream",
     "text": [
      "Enter your name...Harshit\n",
      "Enter your gender...Male\n",
      "Enter your age...20\n",
      "Enter your branch...IT\n",
      "Enter your college...ABESEC\n",
      "Harshit\n",
      "Male\n",
      "20\n",
      "IT\n",
      "ABESEC\n"
     ]
    }
   ],
   "source": [
    "name=input(\"Enter your name...\")\n",
    "gender=input(\"Enter your gender...\")\n",
    "age=input(\"Enter your age...\")\n",
    "branch=input(\"Enter your branch...\")\n",
    "college=input(\"Enter your college...\")\n",
    "print(name)\n",
    "print(gender)\n",
    "print(age)\n",
    "print(branch)\n",
    "print(college)"
   ]
  },
  {
   "cell_type": "code",
   "execution_count": null,
   "metadata": {},
   "outputs": [],
   "source": []
  }
 ],
 "metadata": {
  "kernelspec": {
   "display_name": "Python 3",
   "language": "python",
   "name": "python3"
  },
  "language_info": {
   "codemirror_mode": {
    "name": "ipython",
    "version": 3
   },
   "file_extension": ".py",
   "mimetype": "text/x-python",
   "name": "python",
   "nbconvert_exporter": "python",
   "pygments_lexer": "ipython3",
   "version": "3.7.3"
  }
 },
 "nbformat": 4,
 "nbformat_minor": 2
}
