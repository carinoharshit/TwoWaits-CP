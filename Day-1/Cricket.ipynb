{
 "cells": [
  {
   "cell_type": "code",
   "execution_count": null,
   "metadata": {},
   "outputs": [],
   "source": [
    "p1=int(input(\"Score:\"))\n",
    "p2=int(input(\"Score:\"))\n",
    "p3=int(input(\"Score:\"))\n",
    "print(\"Strike Rate of p1\",(p1/60)*100)\n",
    "print(\"Strike Rate of p2\",(p2/60)*100)\n",
    "print(\"Strike Rate of p3\",(p3/60)*100)\n",
    "print(\"If player-1 played 60 balls more, then score:\",p1*2)\n",
    "print(\"If player-2 played 60 balls more, then score:\",p2*2)\n",
    "print(\"If player-3 played 60 balls more, then score:\",p3*2)\n",
    "print(\"Player-1 sixes:\",p1//6)\n",
    "print(\"Player-2 sixes:\",p2//6)\n",
    "print(\"Player-3 sixes:\",p3//6)"
   ]
  },
  {
   "cell_type": "code",
   "execution_count": null,
   "metadata": {},
   "outputs": [],
   "source": []
  }
 ],
 "metadata": {
  "kernelspec": {
   "display_name": "Python 3",
   "language": "python",
   "name": "python3"
  },
  "language_info": {
   "codemirror_mode": {
    "name": "ipython",
    "version": 3
   },
   "file_extension": ".py",
   "mimetype": "text/x-python",
   "name": "python",
   "nbconvert_exporter": "python",
   "pygments_lexer": "ipython3",
   "version": "3.7.3"
  }
 },
 "nbformat": 4,
 "nbformat_minor": 2
}
