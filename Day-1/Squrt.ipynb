{
 "cells": [
  {
   "cell_type": "code",
   "execution_count": 1,
   "metadata": {},
   "outputs": [
    {
     "name": "stdout",
     "output_type": "stream",
     "text": [
      "Score:50\n",
      "Score:80\n",
      "Score:45\n",
      "Strike Rate of p1 83.33333333333334\n",
      "Strike Rate of p2 133.33333333333331\n",
      "Strike Rate of p3 75.0\n",
      "If player-1 played 60 balls more, then score: 100\n",
      "If player-2 played 60 balls more, then score: 160\n",
      "If player-3 played 60 balls more, then score: 90\n",
      "Player-1 sixes: 8\n",
      "Player-2 sixes: 13\n",
      "Player-3 sixes: 7\n"
     ]
    }
   ],
   "source": [
    "p1=int(input(\"Score:\"))\n",
    "p2=int(input(\"Score:\"))\n",
    "p3=int(input(\"Score:\"))\n",
    "print(\"Strike Rate of p1\",(p1/60)*100)\n",
    "print(\"Strike Rate of p2\",(p2/60)*100)\n",
    "print(\"Strike Rate of p3\",(p3/60)*100)\n",
    "print(\"If player-1 played 60 balls more, then score:\",p1*2)\n",
    "print(\"If player-2 played 60 balls more, then score:\",p2*2)\n",
    "print(\"If player-3 played 60 balls more, then score:\",p3*2)\n",
    "print(\"Player-1 sixes:\",p1//6)\n",
    "print(\"Player-2 sixes:\",p2//6)\n",
    "print(\"Player-3 sixes:\",p3//6)"
   ]
  },
  {
   "cell_type": "code",
   "execution_count": null,
   "metadata": {},
   "outputs": [],
   "source": []
  }
 ],
 "metadata": {
  "kernelspec": {
   "display_name": "Python 3",
   "language": "python",
   "name": "python3"
  },
  "language_info": {
   "codemirror_mode": {
    "name": "ipython",
    "version": 3
   },
   "file_extension": ".py",
   "mimetype": "text/x-python",
   "name": "python",
   "nbconvert_exporter": "python",
   "pygments_lexer": "ipython3",
   "version": "3.7.3"
  }
 },
 "nbformat": 4,
 "nbformat_minor": 2
}
