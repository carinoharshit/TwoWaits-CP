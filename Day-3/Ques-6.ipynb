{
 "cells": [
  {
   "cell_type": "code",
   "execution_count": null,
   "metadata": {},
   "outputs": [],
   "source": [
    "def Sum(List, size,sum):\n",
    "    sumList = []\n",
    "    if size == 1:\n",
    "        for x in List:\n",
    "            sumList.append(sum + x)\n",
    "        return sumList\n",
    "    L2 = list(List)\n",
    "    for x in List:\n",
    "        L2.remove(x)\n",
    "        sumList.extend(Sum(L2,size-1,sum + x))\n",
    "    return sumList\n",
    "\n",
    "def summation(List,size):\n",
    "    sumList = list(List)\n",
    "    for i in range (2, size + 1):\n",
    "        sumList.extend(Sum(List,i,0))\n",
    "    number = 1\n",
    "    while True:\n",
    "        if number not in sumList:\n",
    "            print(\"The least integer which is not present in the list and also cannot be represented as the summation of sub-elements is\",number)\n",
    "            break\n",
    "        number += 1\n",
    "\n",
    "size = int(input(\"Enter the no of elements you want to add in the list: \"))\n",
    "List = []\n",
    "print(\"Enter the elements in list one by one.\")\n",
    "for i in range(size):\n",
    "    List.append(int(input()))\n",
    "summation(List, size)"
   ]
  },
  {
   "cell_type": "code",
   "execution_count": null,
   "metadata": {},
   "outputs": [],
   "source": []
  }
 ],
 "metadata": {
  "kernelspec": {
   "display_name": "Python 3",
   "language": "python",
   "name": "python3"
  }
 },
 "nbformat": 4,
 "nbformat_minor": 2
}
