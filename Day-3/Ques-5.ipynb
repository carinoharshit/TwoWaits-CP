{
 "cells": [
  {
   "cell_type": "code",
   "execution_count": 14,
   "metadata": {},
   "outputs": [
    {
     "name": "stdout",
     "output_type": "stream",
     "text": [
      "enter list 1:1,2,3\n",
      "enter list 2:3,4,5\n",
      "intersection of li1 and li2 is: \n"
     ]
    }
   ],
   "source": [
    "li1=list(map(str,input(\"enter list 1:\").split()))\n",
    "li2=list(map(str,input(\"enter list 2:\").split()))\n",
    "intersec=list(set(li1).intersection(set(li2)))\n",
    "print(\"intersection of li1 and li2 is:\",\",\".join(intersec))"
   ]
  },
  {
   "cell_type": "code",
   "execution_count": null,
   "metadata": {},
   "outputs": [],
   "source": []
  }
 ],
 "metadata": {
  "kernelspec": {
   "display_name": "Python 3",
   "language": "python",
   "name": "python3"
  }
 },
 "nbformat": 4,
 "nbformat_minor": 2
}
