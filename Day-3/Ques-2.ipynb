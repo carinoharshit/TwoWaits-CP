{
 "cells": [
  {
   "cell_type": "code",
   "execution_count": null,
   "metadata": {},
   "outputs": [],
   "source": [
    "n=input(\"Enter a String: \")\n",
    "result=[]\n",
    "def per(d, i, l):  \n",
    "    if i == l:  \n",
    "        result.append(''.join(d) ) \n",
    "    else:  \n",
    "        for j in range(i, l):  \n",
    "            d[i], d[j] = d[j], d[i]  \n",
    "            per(d, i + 1, l)  \n",
    "            d[i], d[j] = d[j], d[i]   \n",
    "\n",
    "per(list(n),0,len(n))\n",
    "print(str(result))"
   ]
  }
 ],
 "metadata": {
  "kernelspec": {
   "display_name": "Python 3",
   "language": "python",
   "name": "python3"
  },
  "language_info": {
   "codemirror_mode": {
    "name": "ipython",
    "version": 3
   },
   "file_extension": ".py",
   "mimetype": "text/x-python",
   "name": "python",
   "nbconvert_exporter": "python",
   "pygments_lexer": "ipython3",
   "version": "3.7.3"
  }
 },
 "nbformat": 4,
 "nbformat_minor": 2
}
