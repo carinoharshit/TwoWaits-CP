{
 "cells": [
  {
   "cell_type": "code",
   "execution_count": 10,
   "metadata": {},
   "outputs": [
    {
     "name": "stdout",
     "output_type": "stream",
     "text": [
      "Enter number of Houses in a line: 3\n",
      "Enter the value in house number: 1: 66\n",
      "Enter the value in house number: 2: 77\n",
      "Enter the value in house number: 3: 88\n",
      "Maximum stolen value from house is:  154\n"
     ]
    }
   ],
   "source": [
    "def House(List):\n",
    "    if len(List) == 2:\n",
    "        return max(List)\n",
    "    if len(List) == 1:\n",
    "        return List[0]\n",
    "    if len(List) == 3:\n",
    "        return max(List[1], List[0] + House(List[2:]))\n",
    "    return max(List[1] + House(List[3:]), List[0] + House(List[2:]))\n",
    "\n",
    "size = int(input(\"Enter number of Houses in a line: \"))\n",
    "List = []\n",
    "\n",
    "for i in range(size):\n",
    "    List.append(int(input(\"Enter the value in house number: \" + str(i + 1) + \": \")))\n",
    "print(\"Maximum stolen value from house is: \", House(List))"
   ]
  },
  {
   "cell_type": "code",
   "execution_count": null,
   "metadata": {},
   "outputs": [],
   "source": []
  }
 ],
 "metadata": {
  "kernelspec": {
   "display_name": "Python 3",
   "language": "python",
   "name": "python3"
  },
  "language_info": {
   "codemirror_mode": {
    "name": "ipython",
    "version": 3
   },
   "file_extension": ".py",
   "mimetype": "text/x-python",
   "name": "python",
   "nbconvert_exporter": "python",
   "pygments_lexer": "ipython3",
   "version": "3.7.3"
  }
 },
 "nbformat": 4,
 "nbformat_minor": 2
}
