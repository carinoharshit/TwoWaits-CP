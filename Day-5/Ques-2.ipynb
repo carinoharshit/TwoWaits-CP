{
 "cells": [
  {
   "cell_type": "code",
   "execution_count": 7,
   "metadata": {},
   "outputs": [
    {
     "name": "stdout",
     "output_type": "stream",
     "text": [
      "Enter the number you want to check: 65\n",
      "The number after replacing all 0 with 5 will be 65\n"
     ]
    }
   ],
   "source": [
    "def replaceGreatestInteger(List):\n",
    "    for i in range(size-1):\n",
    "        List[i] = max(List[i+1:])\n",
    "    return List\n",
    "size = int(input(\"Enter the size of List: \"))\n",
    "List = []\n",
    "for i in range(size):\n",
    "    List.append(int(input(\"Enter element number \" + str(i+1) + \" in List: \")))\n",
    "print(\"List after replacing every element with greatest element on right side is: \", replaceGreatestInteger(List))"
   ]
  },
  {
   "cell_type": "code",
   "execution_count": null,
   "metadata": {},
   "outputs": [],
   "source": []
  }
 ],
 "metadata": {
  "kernelspec": {
   "display_name": "Python 3",
   "language": "python",
   "name": "python3"
  },
  "language_info": {
   "codemirror_mode": {
    "name": "ipython",
    "version": 3
   },
   "file_extension": ".py",
   "mimetype": "text/x-python",
   "name": "python",
   "nbconvert_exporter": "python",
   "pygments_lexer": "ipython3",
   "version": "3.7.3"
  }
 },
 "nbformat": 4,
 "nbformat_minor": 2
}
