{
 "cells": [
  {
   "cell_type": "code",
   "execution_count": 16,
   "metadata": {},
   "outputs": [
    {
     "name": "stdout",
     "output_type": "stream",
     "text": [
      "Enter number153\n",
      "This is armstrong no.\n",
      "\n",
      "This is odd no.\n",
      "\n"
     ]
    }
   ],
   "source": [
    "def even(n):\n",
    "    if(n%2==0):\n",
    "        return True\n",
    "    else:\n",
    "        return False\n",
    "def odd(n):\n",
    "    if(n%2!=0):\n",
    "        return True\n",
    "    else:\n",
    "        return False\n",
    "def isPrime(n):\n",
    "    count=0\n",
    "    for i in range(1,n+1):\n",
    "        if n%i==0:\n",
    "            count=count+1\n",
    "    if count==2:\n",
    "        return True\n",
    "    else:\n",
    "        return False\n",
    "\n",
    "def isArmstrong(n):\n",
    "    temp=n\n",
    "    s=0\n",
    "    while(temp):\n",
    "        rem=temp%10\n",
    "        s=s+rem**3\n",
    "        temp=temp//10\n",
    "    if n==s:\n",
    "        return True\n",
    "    else:\n",
    "        return False\n",
    "    \n",
    "def isPallindrome(n):\n",
    "    temp=n\n",
    "    rev=0\n",
    "    while(temp>0):\n",
    "        rem=temp%10\n",
    "        rev=rev*10+rem\n",
    "        temp=temp//10\n",
    "    if rev==n:\n",
    "        return True\n",
    "    else:\n",
    "        return False\n",
    "\n",
    "\n",
    "n=int(input(\"Enter no.\"))\n",
    "if(isPrime(n)):\n",
    "    print(\"This is prime no.\\n\")\n",
    "if(isArmstrong(n)):\n",
    "    print(\"This is armstrong no.\\n\")\n",
    "if(isPallindrome(n)):\n",
    "    print(\"This is pallindrome no.\\n\")\n",
    "if(even(n)):\n",
    "    print(\"This is even no.\\n\")\n",
    "if(odd(n)):\n",
    "    print(\"This is odd no.\\n\")"
   ]
  },
  {
   "cell_type": "code",
   "execution_count": null,
   "metadata": {},
   "outputs": [],
   "source": []
  }
 ],
 "metadata": {
  "kernelspec": {
   "display_name": "Python 3",
   "language": "python",
   "name": "python3"
  },
  "language_info": {
   "codemirror_mode": {
    "name": "ipython",
    "version": 3
   },
   "file_extension": ".py",
   "mimetype": "text/x-python",
   "name": "python",
   "nbconvert_exporter": "python",
   "pygments_lexer": "ipython3",
   "version": "3.7.3"
  }
 },
 "nbformat": 4,
 "nbformat_minor": 2
}
